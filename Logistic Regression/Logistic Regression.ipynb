{
 "cells": [
  {
   "cell_type": "code",
   "execution_count": 1,
   "id": "attached-candy",
   "metadata": {},
   "outputs": [
    {
     "name": "stderr",
     "output_type": "stream",
     "text": [
      "\u001b[32m\u001b[1m    Updating\u001b[22m\u001b[39m registry at `C:\\Users\\Prabhat Malhan\\.julia\\registries\\General`\n",
      "\u001b[32m\u001b[1m   Resolving\u001b[22m\u001b[39m package versions...\n",
      "\u001b[32m\u001b[1m    Updating\u001b[22m\u001b[39m `C:\\Users\\Prabhat Malhan\\.julia\\environments\\v1.6\\Project.toml`\n",
      " \u001b[90m [2913bbd2] \u001b[39m\u001b[92m+ StatsBase v0.33.5\u001b[39m\n",
      "\u001b[32m\u001b[1m  No Changes\u001b[22m\u001b[39m to `C:\\Users\\Prabhat Malhan\\.julia\\environments\\v1.6\\Manifest.toml`\n",
      "\u001b[32m\u001b[1m   Resolving\u001b[22m\u001b[39m package versions...\n",
      "\u001b[32m\u001b[1m   Installed\u001b[22m\u001b[39m Lathe ────────────────── v0.0.9\n",
      "\u001b[32m\u001b[1m   Installed\u001b[22m\u001b[39m ClassImbalance ───────── v0.8.7\n",
      "\u001b[32m\u001b[1m   Installed\u001b[22m\u001b[39m CommonSubexpressions ─── v0.3.0\n",
      "\u001b[32m\u001b[1m   Installed\u001b[22m\u001b[39m StatsBase ────────────── v0.32.2\n",
      "\u001b[32m\u001b[1m   Installed\u001b[22m\u001b[39m CategoricalArrays ────── v0.7.7\n",
      "\u001b[32m\u001b[1m   Installed\u001b[22m\u001b[39m DataFrames ───────────── v0.20.2\n",
      "\u001b[32m\u001b[1m   Installed\u001b[22m\u001b[39m PooledArrays ─────────── v0.5.3\n",
      "\u001b[32m\u001b[1m   Installed\u001b[22m\u001b[39m PDMats ───────────────── v0.9.12\n",
      "\u001b[32m\u001b[1m   Installed\u001b[22m\u001b[39m Tables ───────────────── v1.4.2\n",
      "\u001b[32m\u001b[1m   Installed\u001b[22m\u001b[39m ArrayInterface ───────── v2.14.17\n",
      "\u001b[32m\u001b[1m   Installed\u001b[22m\u001b[39m SpecialFunctions ─────── v0.10.3\n",
      "\u001b[32m\u001b[1m   Installed\u001b[22m\u001b[39m FillArrays ───────────── v0.8.14\n",
      "\u001b[32m\u001b[1m   Installed\u001b[22m\u001b[39m NLSolversBase ────────── v7.5.0\n",
      "\u001b[32m\u001b[1m   Installed\u001b[22m\u001b[39m LineSearches ─────────── v7.1.1\n",
      "\u001b[32m\u001b[1m   Installed\u001b[22m\u001b[39m UnPack ───────────────── v1.0.2\n",
      "\u001b[32m\u001b[1m   Installed\u001b[22m\u001b[39m KernelDensity ────────── v0.5.1\n",
      "\u001b[32m\u001b[1m   Installed\u001b[22m\u001b[39m PositiveFactorizations ─ v0.2.4\n",
      "\u001b[32m\u001b[1m   Installed\u001b[22m\u001b[39m DataStructures ───────── v0.17.20\n",
      "\u001b[32m\u001b[1m   Installed\u001b[22m\u001b[39m DiffRules ────────────── v1.0.2\n",
      "\u001b[32m\u001b[1m   Installed\u001b[22m\u001b[39m ForwardDiff ──────────── v0.10.18\n",
      "\u001b[32m\u001b[1m   Installed\u001b[22m\u001b[39m Calculus ─────────────── v0.5.1\n",
      "\u001b[32m\u001b[1m   Installed\u001b[22m\u001b[39m DiffEqDiffTools ──────── v1.7.0\n",
      "\u001b[32m\u001b[1m   Installed\u001b[22m\u001b[39m Optim ────────────────── v0.22.0\n",
      "\u001b[32m\u001b[1m   Installed\u001b[22m\u001b[39m Distributions ────────── v0.22.6\n",
      "\u001b[32m\u001b[1m   Installed\u001b[22m\u001b[39m Interpolations ───────── v0.12.10\n",
      "\u001b[32m\u001b[1m   Installed\u001b[22m\u001b[39m DiffResults ──────────── v1.0.3\n",
      "\u001b[32m\u001b[1m   Installed\u001b[22m\u001b[39m GR ───────────────────── v0.57.4\n",
      "\u001b[32m\u001b[1m   Installed\u001b[22m\u001b[39m ColorSchemes ─────────── v3.12.0\n",
      "\u001b[32m\u001b[1m   Installed\u001b[22m\u001b[39m StaticArrays ─────────── v0.12.5\n",
      "\u001b[32m\u001b[1m   Installed\u001b[22m\u001b[39m Parameters ───────────── v0.12.2\n",
      "\u001b[32m\u001b[1m    Updating\u001b[22m\u001b[39m `C:\\Users\\Prabhat Malhan\\.julia\\environments\\v1.6\\Project.toml`\n",
      " \u001b[90m [04a18a73] \u001b[39m\u001b[92m+ ClassImbalance v0.8.7\u001b[39m\n",
      " \u001b[90m [a93c6f00] \u001b[39m\u001b[95m↓ DataFrames v0.22.7 ⇒ v0.20.2\u001b[39m\n",
      " \u001b[90m [38d8eb38] \u001b[39m\u001b[95m↓ Lathe v0.1.7 ⇒ v0.0.9\u001b[39m\n",
      " \u001b[90m [2913bbd2] \u001b[39m\u001b[95m↓ StatsBase v0.33.5 ⇒ v0.32.2\u001b[39m\n",
      "\u001b[32m\u001b[1m    Updating\u001b[22m\u001b[39m `C:\\Users\\Prabhat Malhan\\.julia\\environments\\v1.6\\Manifest.toml`\n",
      " \u001b[90m [4fba245c] \u001b[39m\u001b[92m+ ArrayInterface v2.14.17\u001b[39m\n",
      " \u001b[90m [ab4f0b2a] \u001b[39m\u001b[91m- BFloat16s v0.1.0\u001b[39m\n",
      " \u001b[90m [fa961155] \u001b[39m\u001b[91m- CEnum v0.4.1\u001b[39m\n",
      " \u001b[90m [052768ef] \u001b[39m\u001b[91m- CUDA v2.6.3\u001b[39m\n",
      " \u001b[90m [49dc2e85] \u001b[39m\u001b[92m+ Calculus v0.5.1\u001b[39m\n",
      " \u001b[90m [324d7699] \u001b[39m\u001b[95m↓ CategoricalArrays v0.9.5 ⇒ v0.7.7\u001b[39m\n",
      " \u001b[90m [d360d2e6] \u001b[39m\u001b[91m- ChainRulesCore v0.9.37\u001b[39m\n",
      " \u001b[90m [04a18a73] \u001b[39m\u001b[92m+ ClassImbalance v0.8.7\u001b[39m\n",
      " \u001b[90m [35d6a980] \u001b[39m\u001b[93m↑ ColorSchemes v3.11.0 ⇒ v3.12.0\u001b[39m\n",
      " \u001b[90m [bbf7d656] \u001b[39m\u001b[92m+ CommonSubexpressions v0.3.0\u001b[39m\n",
      " \u001b[90m [a8cc5b0e] \u001b[39m\u001b[91m- Crayons v4.0.4\u001b[39m\n",
      " \u001b[90m [a93c6f00] \u001b[39m\u001b[95m↓ DataFrames v0.22.7 ⇒ v0.20.2\u001b[39m\n",
      " \u001b[90m [864edb3b] \u001b[39m\u001b[95m↓ DataStructures v0.18.9 ⇒ v0.17.20\u001b[39m\n",
      " \u001b[90m [01453d9d] \u001b[39m\u001b[92m+ DiffEqDiffTools v1.7.0\u001b[39m\n",
      " \u001b[90m [163ba53b] \u001b[39m\u001b[92m+ DiffResults v1.0.3\u001b[39m\n",
      " \u001b[90m [b552c78f] \u001b[39m\u001b[92m+ DiffRules v1.0.2\u001b[39m\n",
      " \u001b[90m [31c24e10] \u001b[39m\u001b[95m↓ Distributions v0.24.15 ⇒ v0.22.6\u001b[39m\n",
      " \u001b[90m [ffbed154] \u001b[39m\u001b[91m- DocStringExtensions v0.8.4\u001b[39m\n",
      " \u001b[90m [e2ba6199] \u001b[39m\u001b[91m- ExprTools v0.1.3\u001b[39m\n",
      " \u001b[90m [1a297f60] \u001b[39m\u001b[95m↓ FillArrays v0.11.7 ⇒ v0.8.14\u001b[39m\n",
      " \u001b[90m [f6369f11] \u001b[39m\u001b[92m+ ForwardDiff v0.10.18\u001b[39m\n",
      " \u001b[90m [0c68f7d7] \u001b[39m\u001b[91m- GPUArrays v6.2.2\u001b[39m\n",
      " \u001b[90m [61eb1bfa] \u001b[39m\u001b[91m- GPUCompiler v0.10.0\u001b[39m\n",
      " \u001b[90m [28b8d3ca] \u001b[39m\u001b[93m↑ GR v0.57.3 ⇒ v0.57.4\u001b[39m\n",
      " \u001b[90m [a98d9a8b] \u001b[39m\u001b[95m↓ Interpolations v0.13.1 ⇒ v0.12.10\u001b[39m\n",
      " \u001b[90m [5ab0869b] \u001b[39m\u001b[95m↓ KernelDensity v0.6.2 ⇒ v0.5.1\u001b[39m\n",
      " \u001b[90m [929cbde3] \u001b[39m\u001b[91m- LLVM v3.6.0\u001b[39m\n",
      " \u001b[90m [38d8eb38] \u001b[39m\u001b[95m↓ Lathe v0.1.7 ⇒ v0.0.9\u001b[39m\n",
      " \u001b[90m [d3d80556] \u001b[39m\u001b[92m+ LineSearches v7.1.1\u001b[39m\n",
      " \u001b[90m [c03570c3] \u001b[39m\u001b[91m- Memoize v0.4.4\u001b[39m\n",
      " \u001b[90m [d41bc354] \u001b[39m\u001b[92m+ NLSolversBase v7.5.0\u001b[39m\n",
      " \u001b[90m [872c559c] \u001b[39m\u001b[91m- NNlib v0.7.18\u001b[39m\n",
      " \u001b[90m [429524aa] \u001b[39m\u001b[92m+ Optim v0.22.0\u001b[39m\n",
      " \u001b[90m [90014a1f] \u001b[39m\u001b[95m↓ PDMats v0.11.0 ⇒ v0.9.12\u001b[39m\n",
      " \u001b[90m [d96e819e] \u001b[39m\u001b[92m+ Parameters v0.12.2\u001b[39m\n",
      " \u001b[90m [2dfb63ee] \u001b[39m\u001b[95m↓ PooledArrays v1.2.1 ⇒ v0.5.3\u001b[39m\n",
      " \u001b[90m [85a6dd25] \u001b[39m\u001b[92m+ PositiveFactorizations v0.2.4\u001b[39m\n",
      " \u001b[90m [08abe8d2] \u001b[39m\u001b[91m- PrettyTables v0.11.1\u001b[39m\n",
      " \u001b[90m [276daf66] \u001b[39m\u001b[95m↓ SpecialFunctions v1.3.0 ⇒ v0.10.3\u001b[39m\n",
      " \u001b[90m [90137ffa] \u001b[39m\u001b[95m↓ StaticArrays v1.1.0 ⇒ v0.12.5\u001b[39m\n",
      " \u001b[90m [2913bbd2] \u001b[39m\u001b[95m↓ StatsBase v0.33.5 ⇒ v0.32.2\u001b[39m\n",
      " \u001b[90m [856f2bd8] \u001b[39m\u001b[91m- StructTypes v1.5.2\u001b[39m\n",
      " \u001b[90m [bd369af6] \u001b[39m\u001b[93m↑ Tables v1.4.1 ⇒ v1.4.2\u001b[39m\n",
      " \u001b[90m [a759f4b9] \u001b[39m\u001b[91m- TimerOutputs v0.5.8\u001b[39m\n",
      " \u001b[90m [3a884ed6] \u001b[39m\u001b[92m+ UnPack v1.0.2\u001b[39m\n",
      "\u001b[32m\u001b[1m    Building\u001b[22m\u001b[39m GR → `C:\\Users\\Prabhat Malhan\\.julia\\scratchspaces\\44cfe95a-1eb2-52ea-b672-e2afdf69b78f\\011458b83178ac913dc4eb73b229af45bdde5d83\\build.log`\n",
      "\u001b[32m\u001b[1mPrecompiling\u001b[22m\u001b[39m project...\n",
      "\u001b[32m  ✓ \u001b[39m\u001b[90mUnPack\u001b[39m\n",
      "\u001b[32m  ✓ \u001b[39m\u001b[90mPositiveFactorizations\u001b[39m\n",
      "\u001b[32m  ✓ \u001b[39m\u001b[90mPooledArrays\u001b[39m\n",
      "\u001b[32m  ✓ \u001b[39m\u001b[90mFillArrays\u001b[39m\n",
      "\u001b[32m  ✓ \u001b[39m\u001b[90mCalculus\u001b[39m\n",
      "\u001b[32m  ✓ \u001b[39m\u001b[90mTables\u001b[39m\n",
      "\u001b[32m  ✓ \u001b[39m\u001b[90mCommonSubexpressions\u001b[39m\n",
      "\u001b[32m  ✓ \u001b[39m\u001b[90mArrayInterface\u001b[39m\n",
      "\u001b[32m  ✓ \u001b[39m\u001b[90mParameters\u001b[39m\n",
      "\u001b[32m  ✓ \u001b[39m\u001b[90mPDMats\u001b[39m\n",
      "\u001b[32m  ✓ \u001b[39m\u001b[90mDataStructures\u001b[39m\n",
      "\u001b[32m  ✓ \u001b[39m\u001b[90mTableOperations\u001b[39m\n",
      "\u001b[32m  ✓ \u001b[39m\u001b[90mStructArrays\u001b[39m\n",
      "\u001b[32m  ✓ \u001b[39m\u001b[90mGR\u001b[39m\n",
      "\u001b[32m  ✓ \u001b[39m\u001b[90mSortingAlgorithms\u001b[39m\n",
      "\u001b[32m  ✓ \u001b[39m\u001b[90mSpecialFunctions\u001b[39m\n",
      "\u001b[32m  ✓ \u001b[39m\u001b[90mQuadGK\u001b[39m\n",
      "\u001b[32m  ✓ \u001b[39m\u001b[90mDiffRules\u001b[39m\n",
      "\u001b[32m  ✓ \u001b[39m\u001b[90mStaticArrays\u001b[39m\n",
      "\u001b[32m  ✓ \u001b[39m\u001b[90mStatsFuns\u001b[39m\n",
      "\u001b[32m  ✓ \u001b[39mStatsBase\n",
      "\u001b[32m  ✓ \u001b[39m\u001b[90mCategoricalArrays\u001b[39m\n",
      "\u001b[32m  ✓ \u001b[39m\u001b[90mDiffResults\u001b[39m\n",
      "\u001b[32m  ✓ \u001b[39m\u001b[90mContour\u001b[39m\n",
      "\u001b[32m  ✓ \u001b[39m\u001b[90mNearestNeighbors\u001b[39m\n",
      "\u001b[32m  ✓ \u001b[39m\u001b[90mDiffEqDiffTools\u001b[39m\n",
      "\u001b[32m  ✓ \u001b[39mMLBase\n",
      "\u001b[32m  ✓ \u001b[39m\u001b[90mInterpolations\u001b[39m\n",
      "\u001b[32m  ✓ \u001b[39m\u001b[90mMultivariateStats\u001b[39m\n",
      "\u001b[32m  ✓ \u001b[39m\u001b[90mStatsModels\u001b[39m\n",
      "\u001b[32m  ✓ \u001b[39m\u001b[90mClustering\u001b[39m\n",
      "\u001b[32m  ✓ \u001b[39mCSV\n",
      "\u001b[32m  ✓ \u001b[39m\u001b[90mDistributions\u001b[39m\n",
      "\u001b[32m  ✓ \u001b[39m\u001b[90mForwardDiff\u001b[39m\n",
      "\u001b[32m  ✓ \u001b[39mDataFrames\n",
      "\u001b[32m  ✓ \u001b[39m\u001b[90mGeometryBasics\u001b[39m\n",
      "\u001b[32m  ✓ \u001b[39m\u001b[90mColorSchemes\u001b[39m\n",
      "\u001b[32m  ✓ \u001b[39mGLM\n",
      "\u001b[32m  ✓ \u001b[39m\u001b[90mNLSolversBase\u001b[39m\n",
      "\u001b[32m  ✓ \u001b[39mLathe\n",
      "\u001b[32m  ✓ \u001b[39mClassImbalance\n",
      "\u001b[32m  ✓ \u001b[39m\u001b[90mLineSearches\u001b[39m\n",
      "\u001b[32m  ✓ \u001b[39m\u001b[90mPlotUtils\u001b[39m\n",
      "\u001b[32m  ✓ \u001b[39m\u001b[90mOptim\u001b[39m\n",
      "\u001b[32m  ✓ \u001b[39m\u001b[90mKernelDensity\u001b[39m\n",
      "\u001b[32m  ✓ \u001b[39m\u001b[90mRecipesPipeline\u001b[39m\n",
      "\u001b[32m  ✓ \u001b[39m\u001b[90mPlotThemes\u001b[39m\n",
      "\u001b[32m  ✓ \u001b[39mPlots\n",
      "\u001b[32m  ✓ \u001b[39mStatsPlots\n",
      "49 dependencies successfully precompiled in 65 seconds (128 already precompiled)\n",
      "\u001b[32m\u001b[1m   Resolving\u001b[22m\u001b[39m package versions...\n",
      "\u001b[32m\u001b[1m   Installed\u001b[22m\u001b[39m ROCAnalysis ─ v0.3.2\n",
      "\u001b[32m\u001b[1m    Updating\u001b[22m\u001b[39m `C:\\Users\\Prabhat Malhan\\.julia\\environments\\v1.6\\Project.toml`\n",
      " \u001b[90m [f535d66d] \u001b[39m\u001b[92m+ ROCAnalysis v0.3.2\u001b[39m\n",
      "\u001b[32m\u001b[1m    Updating\u001b[22m\u001b[39m `C:\\Users\\Prabhat Malhan\\.julia\\environments\\v1.6\\Manifest.toml`\n",
      " \u001b[90m [f535d66d] \u001b[39m\u001b[92m+ ROCAnalysis v0.3.2\u001b[39m\n",
      "\u001b[32m\u001b[1mPrecompiling\u001b[22m\u001b[39m project...\n",
      "\u001b[32m  ✓ \u001b[39mROCAnalysis\n",
      "1 dependency successfully precompiled in 3 seconds (177 already precompiled)\n"
     ]
    }
   ],
   "source": [
    "using Pkg\n",
    "Pkg.add(\"StatsBase\")\n",
    "Pkg.add(\"ClassImbalance\")\n",
    "Pkg.add(\"ROCAnalysis\")\n",
    "using DataFrames\n",
    "using CSV\n",
    "using Plots\n",
    "using GLM\n",
    "using StatsBase\n",
    "using Lathe\n",
    "using MLBase\n",
    "using ClassImbalance\n",
    "using ROCAnalysis"
   ]
  },
  {
   "cell_type": "code",
   "execution_count": 2,
   "id": "nasty-candidate",
   "metadata": {},
   "outputs": [
    {
     "data": {
      "text/plain": [
       "1000"
      ]
     },
     "execution_count": 2,
     "metadata": {},
     "output_type": "execute_result"
    }
   ],
   "source": [
    "ENV[\"COLUMNS\"]=1000"
   ]
  },
  {
   "cell_type": "code",
   "execution_count": 3,
   "id": "resistant-indonesia",
   "metadata": {},
   "outputs": [
    {
     "data": {
      "text/html": [
       "<table class=\"data-frame\"><thead><tr><th></th><th>RowNumber</th><th>CustomerId</th><th>Surname</th><th>CreditScore</th><th>Geography</th><th>Gender</th><th>Age</th><th>Tenure</th><th>Balance</th><th>NumOfProducts</th><th>HasCrCard</th><th>IsActiveMember</th><th>EstimatedSalary</th><th>Exited</th></tr><tr><th></th><th>Int64</th><th>Int64</th><th>String</th><th>Int64</th><th>String</th><th>String</th><th>Int64</th><th>Int64</th><th>Float64</th><th>Int64</th><th>Int64</th><th>Int64</th><th>Float64</th><th>Int64</th></tr></thead><tbody><p>5 rows × 14 columns</p><tr><th>1</th><td>1</td><td>15634602</td><td>Hargrave</td><td>619</td><td>France</td><td>Female</td><td>42</td><td>2</td><td>0.0</td><td>1</td><td>1</td><td>1</td><td>1.01349e5</td><td>1</td></tr><tr><th>2</th><td>2</td><td>15647311</td><td>Hill</td><td>608</td><td>Spain</td><td>Female</td><td>41</td><td>1</td><td>83807.9</td><td>1</td><td>0</td><td>1</td><td>1.12543e5</td><td>0</td></tr><tr><th>3</th><td>3</td><td>15619304</td><td>Onio</td><td>502</td><td>France</td><td>Female</td><td>42</td><td>8</td><td>1.59661e5</td><td>3</td><td>1</td><td>0</td><td>1.13932e5</td><td>1</td></tr><tr><th>4</th><td>4</td><td>15701354</td><td>Boni</td><td>699</td><td>France</td><td>Female</td><td>39</td><td>1</td><td>0.0</td><td>2</td><td>0</td><td>0</td><td>93826.6</td><td>0</td></tr><tr><th>5</th><td>5</td><td>15737888</td><td>Mitchell</td><td>850</td><td>Spain</td><td>Female</td><td>43</td><td>2</td><td>1.25511e5</td><td>1</td><td>1</td><td>1</td><td>79084.1</td><td>0</td></tr></tbody></table>"
      ],
      "text/latex": [
       "\\begin{tabular}{r|cccccccccccccc}\n",
       "\t& RowNumber & CustomerId & Surname & CreditScore & Geography & Gender & Age & Tenure & Balance & NumOfProducts & HasCrCard & IsActiveMember & EstimatedSalary & Exited\\\\\n",
       "\t\\hline\n",
       "\t& Int64 & Int64 & String & Int64 & String & String & Int64 & Int64 & Float64 & Int64 & Int64 & Int64 & Float64 & Int64\\\\\n",
       "\t\\hline\n",
       "\t1 & 1 & 15634602 & Hargrave & 619 & France & Female & 42 & 2 & 0.0 & 1 & 1 & 1 & 1.01349e5 & 1 \\\\\n",
       "\t2 & 2 & 15647311 & Hill & 608 & Spain & Female & 41 & 1 & 83807.9 & 1 & 0 & 1 & 1.12543e5 & 0 \\\\\n",
       "\t3 & 3 & 15619304 & Onio & 502 & France & Female & 42 & 8 & 1.59661e5 & 3 & 1 & 0 & 1.13932e5 & 1 \\\\\n",
       "\t4 & 4 & 15701354 & Boni & 699 & France & Female & 39 & 1 & 0.0 & 2 & 0 & 0 & 93826.6 & 0 \\\\\n",
       "\t5 & 5 & 15737888 & Mitchell & 850 & Spain & Female & 43 & 2 & 1.25511e5 & 1 & 1 & 1 & 79084.1 & 0 \\\\\n",
       "\\end{tabular}\n"
      ],
      "text/plain": [
       "5×14 typename(DataFrame)\n",
       "│ Row │ RowNumber │ CustomerId │ Surname  │ CreditScore │ Geography │ Gender │ Age   │ Tenure │ Balance   │ NumOfProducts │ HasCrCard │ IsActiveMember │ EstimatedSalary │ Exited │\n",
       "│     │ \u001b[90mInt64\u001b[39m     │ \u001b[90mInt64\u001b[39m      │ \u001b[90mString\u001b[39m   │ \u001b[90mInt64\u001b[39m       │ \u001b[90mString\u001b[39m    │ \u001b[90mString\u001b[39m │ \u001b[90mInt64\u001b[39m │ \u001b[90mInt64\u001b[39m  │ \u001b[90mFloat64\u001b[39m   │ \u001b[90mInt64\u001b[39m         │ \u001b[90mInt64\u001b[39m     │ \u001b[90mInt64\u001b[39m          │ \u001b[90mFloat64\u001b[39m         │ \u001b[90mInt64\u001b[39m  │\n",
       "├─────┼───────────┼────────────┼──────────┼─────────────┼───────────┼────────┼───────┼────────┼───────────┼───────────────┼───────────┼────────────────┼─────────────────┼────────┤\n",
       "│ 1   │ 1         │ 15634602   │ Hargrave │ 619         │ France    │ Female │ 42    │ 2      │ 0.0       │ 1             │ 1         │ 1              │ 1.01349e5       │ 1      │\n",
       "│ 2   │ 2         │ 15647311   │ Hill     │ 608         │ Spain     │ Female │ 41    │ 1      │ 83807.9   │ 1             │ 0         │ 1              │ 1.12543e5       │ 0      │\n",
       "│ 3   │ 3         │ 15619304   │ Onio     │ 502         │ France    │ Female │ 42    │ 8      │ 1.59661e5 │ 3             │ 1         │ 0              │ 1.13932e5       │ 1      │\n",
       "│ 4   │ 4         │ 15701354   │ Boni     │ 699         │ France    │ Female │ 39    │ 1      │ 0.0       │ 2             │ 0         │ 0              │ 93826.6         │ 0      │\n",
       "│ 5   │ 5         │ 15737888   │ Mitchell │ 850         │ Spain     │ Female │ 43    │ 2      │ 1.25511e5 │ 1             │ 1         │ 1              │ 79084.1         │ 0      │"
      ]
     },
     "execution_count": 3,
     "metadata": {},
     "output_type": "execute_result"
    }
   ],
   "source": [
    "df=DataFrame(CSV.File(\"Churn_Modelling.csv\"))\n",
    "first(df,5)"
   ]
  },
  {
   "cell_type": "code",
   "execution_count": 4,
   "id": "willing-humor",
   "metadata": {},
   "outputs": [
    {
     "data": {
      "text/html": [
       "<table class=\"data-frame\"><thead><tr><th></th><th>variable</th><th>mean</th><th>min</th><th>median</th><th>max</th><th>nunique</th><th>nmissing</th><th>eltype</th></tr><tr><th></th><th>Symbol</th><th>Union…</th><th>Any</th><th>Union…</th><th>Any</th><th>Union…</th><th>Nothing</th><th>DataType</th></tr></thead><tbody><p>14 rows × 8 columns</p><tr><th>1</th><td>RowNumber</td><td>5000.5</td><td>1</td><td>5000.5</td><td>10000</td><td></td><td></td><td>Int64</td></tr><tr><th>2</th><td>CustomerId</td><td>1.56909e7</td><td>15565701</td><td>1.56907e7</td><td>15815690</td><td></td><td></td><td>Int64</td></tr><tr><th>3</th><td>Surname</td><td></td><td>Abazu</td><td></td><td>Zuyeva</td><td>2932</td><td></td><td>String</td></tr><tr><th>4</th><td>CreditScore</td><td>650.529</td><td>350</td><td>652.0</td><td>850</td><td></td><td></td><td>Int64</td></tr><tr><th>5</th><td>Geography</td><td></td><td>France</td><td></td><td>Spain</td><td>3</td><td></td><td>String</td></tr><tr><th>6</th><td>Gender</td><td></td><td>Female</td><td></td><td>Male</td><td>2</td><td></td><td>String</td></tr><tr><th>7</th><td>Age</td><td>38.9218</td><td>18</td><td>37.0</td><td>92</td><td></td><td></td><td>Int64</td></tr><tr><th>8</th><td>Tenure</td><td>5.0128</td><td>0</td><td>5.0</td><td>10</td><td></td><td></td><td>Int64</td></tr><tr><th>9</th><td>Balance</td><td>76485.9</td><td>0.0</td><td>97198.5</td><td>2.50898e5</td><td></td><td></td><td>Float64</td></tr><tr><th>10</th><td>NumOfProducts</td><td>1.5302</td><td>1</td><td>1.0</td><td>4</td><td></td><td></td><td>Int64</td></tr><tr><th>11</th><td>HasCrCard</td><td>0.7055</td><td>0</td><td>1.0</td><td>1</td><td></td><td></td><td>Int64</td></tr><tr><th>12</th><td>IsActiveMember</td><td>0.5151</td><td>0</td><td>1.0</td><td>1</td><td></td><td></td><td>Int64</td></tr><tr><th>13</th><td>EstimatedSalary</td><td>1.0009e5</td><td>11.58</td><td>1.00194e5</td><td>1.99992e5</td><td></td><td></td><td>Float64</td></tr><tr><th>14</th><td>Exited</td><td>0.2037</td><td>0</td><td>0.0</td><td>1</td><td></td><td></td><td>Int64</td></tr></tbody></table>"
      ],
      "text/latex": [
       "\\begin{tabular}{r|cccccccc}\n",
       "\t& variable & mean & min & median & max & nunique & nmissing & eltype\\\\\n",
       "\t\\hline\n",
       "\t& Symbol & Union… & Any & Union… & Any & Union… & Nothing & DataType\\\\\n",
       "\t\\hline\n",
       "\t1 & RowNumber & 5000.5 & 1 & 5000.5 & 10000 &  &  & Int64 \\\\\n",
       "\t2 & CustomerId & 1.56909e7 & 15565701 & 1.56907e7 & 15815690 &  &  & Int64 \\\\\n",
       "\t3 & Surname &  & Abazu &  & Zuyeva & 2932 &  & String \\\\\n",
       "\t4 & CreditScore & 650.529 & 350 & 652.0 & 850 &  &  & Int64 \\\\\n",
       "\t5 & Geography &  & France &  & Spain & 3 &  & String \\\\\n",
       "\t6 & Gender &  & Female &  & Male & 2 &  & String \\\\\n",
       "\t7 & Age & 38.9218 & 18 & 37.0 & 92 &  &  & Int64 \\\\\n",
       "\t8 & Tenure & 5.0128 & 0 & 5.0 & 10 &  &  & Int64 \\\\\n",
       "\t9 & Balance & 76485.9 & 0.0 & 97198.5 & 2.50898e5 &  &  & Float64 \\\\\n",
       "\t10 & NumOfProducts & 1.5302 & 1 & 1.0 & 4 &  &  & Int64 \\\\\n",
       "\t11 & HasCrCard & 0.7055 & 0 & 1.0 & 1 &  &  & Int64 \\\\\n",
       "\t12 & IsActiveMember & 0.5151 & 0 & 1.0 & 1 &  &  & Int64 \\\\\n",
       "\t13 & EstimatedSalary & 1.0009e5 & 11.58 & 1.00194e5 & 1.99992e5 &  &  & Float64 \\\\\n",
       "\t14 & Exited & 0.2037 & 0 & 0.0 & 1 &  &  & Int64 \\\\\n",
       "\\end{tabular}\n"
      ],
      "text/plain": [
       "14×8 typename(DataFrame)\n",
       "│ Row │ variable        │ mean      │ min      │ median    │ max       │ nunique │ nmissing │ eltype   │\n",
       "│     │ \u001b[90mSymbol\u001b[39m          │ \u001b[90mUnion…\u001b[39m    │ \u001b[90mAny\u001b[39m      │ \u001b[90mUnion…\u001b[39m    │ \u001b[90mAny\u001b[39m       │ \u001b[90mUnion…\u001b[39m  │ \u001b[90mNothing\u001b[39m  │ \u001b[90mDataType\u001b[39m │\n",
       "├─────┼─────────────────┼───────────┼──────────┼───────────┼───────────┼─────────┼──────────┼──────────┤\n",
       "│ 1   │ RowNumber       │ 5000.5    │ 1        │ 5000.5    │ 10000     │         │          │ Int64    │\n",
       "│ 2   │ CustomerId      │ 1.56909e7 │ 15565701 │ 1.56907e7 │ 15815690  │         │          │ Int64    │\n",
       "│ 3   │ Surname         │           │ Abazu    │           │ Zuyeva    │ 2932    │          │ String   │\n",
       "│ 4   │ CreditScore     │ 650.529   │ 350      │ 652.0     │ 850       │         │          │ Int64    │\n",
       "│ 5   │ Geography       │           │ France   │           │ Spain     │ 3       │          │ String   │\n",
       "│ 6   │ Gender          │           │ Female   │           │ Male      │ 2       │          │ String   │\n",
       "│ 7   │ Age             │ 38.9218   │ 18       │ 37.0      │ 92        │         │          │ Int64    │\n",
       "│ 8   │ Tenure          │ 5.0128    │ 0        │ 5.0       │ 10        │         │          │ Int64    │\n",
       "│ 9   │ Balance         │ 76485.9   │ 0.0      │ 97198.5   │ 2.50898e5 │         │          │ Float64  │\n",
       "│ 10  │ NumOfProducts   │ 1.5302    │ 1        │ 1.0       │ 4         │         │          │ Int64    │\n",
       "│ 11  │ HasCrCard       │ 0.7055    │ 0        │ 1.0       │ 1         │         │          │ Int64    │\n",
       "│ 12  │ IsActiveMember  │ 0.5151    │ 0        │ 1.0       │ 1         │         │          │ Int64    │\n",
       "│ 13  │ EstimatedSalary │ 1.0009e5  │ 11.58    │ 1.00194e5 │ 1.99992e5 │         │          │ Float64  │\n",
       "│ 14  │ Exited          │ 0.2037    │ 0        │ 0.0       │ 1         │         │          │ Int64    │"
      ]
     },
     "execution_count": 4,
     "metadata": {},
     "output_type": "execute_result"
    }
   ],
   "source": [
    "describe(df)"
   ]
  },
  {
   "cell_type": "code",
   "execution_count": 5,
   "id": "systematic-pennsylvania",
   "metadata": {},
   "outputs": [
    {
     "data": {
      "text/plain": [
       "14-element Vector{Symbol}:\n",
       " :RowNumber\n",
       " :CustomerId\n",
       " :Surname\n",
       " :CreditScore\n",
       " :Geography\n",
       " :Gender\n",
       " :Age\n",
       " :Tenure\n",
       " :Balance\n",
       " :NumOfProducts\n",
       " :HasCrCard\n",
       " :IsActiveMember\n",
       " :EstimatedSalary\n",
       " :Exited"
      ]
     },
     "execution_count": 5,
     "metadata": {},
     "output_type": "execute_result"
    }
   ],
   "source": [
    "names(df)"
   ]
  },
  {
   "cell_type": "code",
   "execution_count": 6,
   "id": "faced-correspondence",
   "metadata": {},
   "outputs": [
    {
     "data": {
      "text/plain": [
       "Dict{Int64, Int64} with 2 entries:\n",
       "  0 => 7963\n",
       "  1 => 2037"
      ]
     },
     "execution_count": 6,
     "metadata": {},
     "output_type": "execute_result"
    }
   ],
   "source": [
    "countmap(df.Exited)"
   ]
  },
  {
   "cell_type": "code",
   "execution_count": 7,
   "id": "soviet-breakdown",
   "metadata": {},
   "outputs": [
    {
     "data": {
      "text/html": [
       "<table class=\"data-frame\"><thead><tr><th></th><th>CreditScore</th><th>Age</th><th>Tenure</th><th>Balance</th><th>NumOfProducts</th><th>HasCrCard</th><th>IsActiveMember</th><th>EstimatedSalary</th><th>Exited</th><th>France</th><th>Spain</th><th>Germany</th><th>Female</th></tr><tr><th></th><th>Int64</th><th>Int64</th><th>Int64</th><th>Float64</th><th>Int64</th><th>Int64</th><th>Int64</th><th>Float64</th><th>Int64</th><th>Bool</th><th>Bool</th><th>Bool</th><th>Bool</th></tr></thead><tbody><p>5 rows × 13 columns</p><tr><th>1</th><td>619</td><td>42</td><td>2</td><td>0.0</td><td>1</td><td>1</td><td>1</td><td>1.01349e5</td><td>1</td><td>1</td><td>0</td><td>0</td><td>1</td></tr><tr><th>2</th><td>608</td><td>41</td><td>1</td><td>83807.9</td><td>1</td><td>0</td><td>1</td><td>1.12543e5</td><td>0</td><td>0</td><td>1</td><td>0</td><td>1</td></tr><tr><th>3</th><td>502</td><td>42</td><td>8</td><td>1.59661e5</td><td>3</td><td>1</td><td>0</td><td>1.13932e5</td><td>1</td><td>1</td><td>0</td><td>0</td><td>1</td></tr><tr><th>4</th><td>699</td><td>39</td><td>1</td><td>0.0</td><td>2</td><td>0</td><td>0</td><td>93826.6</td><td>0</td><td>1</td><td>0</td><td>0</td><td>1</td></tr><tr><th>5</th><td>850</td><td>43</td><td>2</td><td>1.25511e5</td><td>1</td><td>1</td><td>1</td><td>79084.1</td><td>0</td><td>0</td><td>1</td><td>0</td><td>1</td></tr></tbody></table>"
      ],
      "text/latex": [
       "\\begin{tabular}{r|ccccccccccccc}\n",
       "\t& CreditScore & Age & Tenure & Balance & NumOfProducts & HasCrCard & IsActiveMember & EstimatedSalary & Exited & France & Spain & Germany & Female\\\\\n",
       "\t\\hline\n",
       "\t& Int64 & Int64 & Int64 & Float64 & Int64 & Int64 & Int64 & Float64 & Int64 & Bool & Bool & Bool & Bool\\\\\n",
       "\t\\hline\n",
       "\t1 & 619 & 42 & 2 & 0.0 & 1 & 1 & 1 & 1.01349e5 & 1 & 1 & 0 & 0 & 1 \\\\\n",
       "\t2 & 608 & 41 & 1 & 83807.9 & 1 & 0 & 1 & 1.12543e5 & 0 & 0 & 1 & 0 & 1 \\\\\n",
       "\t3 & 502 & 42 & 8 & 1.59661e5 & 3 & 1 & 0 & 1.13932e5 & 1 & 1 & 0 & 0 & 1 \\\\\n",
       "\t4 & 699 & 39 & 1 & 0.0 & 2 & 0 & 0 & 93826.6 & 0 & 1 & 0 & 0 & 1 \\\\\n",
       "\t5 & 850 & 43 & 2 & 1.25511e5 & 1 & 1 & 1 & 79084.1 & 0 & 0 & 1 & 0 & 1 \\\\\n",
       "\\end{tabular}\n"
      ],
      "text/plain": [
       "5×13 typename(DataFrame)\n",
       "│ Row │ CreditScore │ Age   │ Tenure │ Balance   │ NumOfProducts │ HasCrCard │ IsActiveMember │ EstimatedSalary │ Exited │ France │ Spain │ Germany │ Female │\n",
       "│     │ \u001b[90mInt64\u001b[39m       │ \u001b[90mInt64\u001b[39m │ \u001b[90mInt64\u001b[39m  │ \u001b[90mFloat64\u001b[39m   │ \u001b[90mInt64\u001b[39m         │ \u001b[90mInt64\u001b[39m     │ \u001b[90mInt64\u001b[39m          │ \u001b[90mFloat64\u001b[39m         │ \u001b[90mInt64\u001b[39m  │ \u001b[90mBool\u001b[39m   │ \u001b[90mBool\u001b[39m  │ \u001b[90mBool\u001b[39m    │ \u001b[90mBool\u001b[39m   │\n",
       "├─────┼─────────────┼───────┼────────┼───────────┼───────────────┼───────────┼────────────────┼─────────────────┼────────┼────────┼───────┼─────────┼────────┤\n",
       "│ 1   │ 619         │ 42    │ 2      │ 0.0       │ 1             │ 1         │ 1              │ 1.01349e5       │ 1      │ 1      │ 0     │ 0       │ 1      │\n",
       "│ 2   │ 608         │ 41    │ 1      │ 83807.9   │ 1             │ 0         │ 1              │ 1.12543e5       │ 0      │ 0      │ 1     │ 0       │ 1      │\n",
       "│ 3   │ 502         │ 42    │ 8      │ 1.59661e5 │ 3             │ 1         │ 0              │ 1.13932e5       │ 1      │ 1      │ 0     │ 0       │ 1      │\n",
       "│ 4   │ 699         │ 39    │ 1      │ 0.0       │ 2             │ 0         │ 0              │ 93826.6         │ 0      │ 1      │ 0     │ 0       │ 1      │\n",
       "│ 5   │ 850         │ 43    │ 2      │ 1.25511e5 │ 1             │ 1         │ 1              │ 79084.1         │ 0      │ 0      │ 1     │ 0       │ 1      │"
      ]
     },
     "execution_count": 7,
     "metadata": {},
     "output_type": "execute_result"
    }
   ],
   "source": [
    "Lathe.preprocess.OneHotEncode(df,:Geography)\n",
    "Lathe.preprocess.OneHotEncode(df,:Gender)\n",
    "select!(df,Not([:RowNumber,:CustomerId,:Surname,:Geography,:Gender,:Male]))\n",
    "first(df,5)"
   ]
  },
  {
   "cell_type": "code",
   "execution_count": 8,
   "id": "running-ranking",
   "metadata": {},
   "outputs": [],
   "source": [
    "using Lathe.preprocess: TrainTestSplit\n",
    "train,test=TrainTestSplit(df,.75);"
   ]
  },
  {
   "cell_type": "code",
   "execution_count": 11,
   "id": "stretch-thermal",
   "metadata": {},
   "outputs": [
    {
     "data": {
      "text/plain": [
       "StatsModels.TableRegressionModel{GeneralizedLinearModel{GLM.GlmResp{Vector{Float64}, Binomial{Float64}, ProbitLink}, GLM.DensePredChol{Float64, LinearAlgebra.Cholesky{Float64, Matrix{Float64}}}}, Matrix{Float64}}\n",
       "\n",
       "Exited ~ 1 + CreditScore + Age + Tenure + Balance + NumOfProducts + HasCrCard + IsActiveMember + EstimatedSalary + Female + France + Spain\n",
       "\n",
       "Coefficients:\n",
       "────────────────────────────────────────────────────────────────────────────────────────\n",
       "                        Coef.   Std. Error       z  Pr(>|z|)     Lower 95%     Upper 95%\n",
       "────────────────────────────────────────────────────────────────────────────────────────\n",
       "(Intercept)      -1.82151      0.166528     -10.94    <1e-27  -2.1479       -1.49512\n",
       "CreditScore      -0.000491447  0.000182962   -2.69    0.0072  -0.000850046  -0.000132847\n",
       "Age               0.0413272    0.00167772    24.63    <1e-99   0.0380389     0.0446154\n",
       "Tenure           -0.00848962   0.00612098    -1.39    0.1655  -0.0204865     0.00350728\n",
       "Balance           1.68632e-6   3.32801e-7     5.07    <1e-06   1.03404e-6    2.3386e-6\n",
       "NumOfProducts    -0.0431425    0.0311728     -1.38    0.1664  -0.10424       0.0179551\n",
       "HasCrCard        -0.0189266    0.0389909     -0.49    0.6274  -0.0953473     0.0574941\n",
       "IsActiveMember   -0.586616     0.036761     -15.96    <1e-56  -0.658666     -0.514566\n",
       "EstimatedSalary   3.16478e-7   3.08372e-7     1.03    0.3048  -2.87919e-7    9.20876e-7\n",
       "Female            0.286814     0.0355976      8.06    <1e-15   0.217044      0.356584\n",
       "France           -0.432293     0.0447639     -9.66    <1e-21  -0.520028     -0.344557\n",
       "Spain            -0.361275     0.0517517     -6.98    <1e-11  -0.462706     -0.259844\n",
       "────────────────────────────────────────────────────────────────────────────────────────"
      ]
     },
     "execution_count": 11,
     "metadata": {},
     "output_type": "execute_result"
    }
   ],
   "source": [
    "fm=@formula(Exited~CreditScore + Age + Tenure + Balance + NumOfProducts + HasCrCard + IsActiveMember + EstimatedSalary + Female + France + Spain)\n",
    "logit = glm(fm,train,Binomial(),ProbitLink())"
   ]
  },
  {
   "cell_type": "code",
   "execution_count": 12,
   "id": "virtual-morrison",
   "metadata": {},
   "outputs": [
    {
     "data": {
      "text/plain": [
       "2504-element Vector{Union{Missing, Float64}}:\n",
       " 0.22248472812418296\n",
       " 0.13024818266599003\n",
       " 0.029372571504503685\n",
       " 0.12060729784918389\n",
       " 0.10169686837629498\n",
       " 0.05210380546861741\n",
       " 0.084223272098675\n",
       " 0.0335107332066154\n",
       " 0.24070971596704696\n",
       " 0.3631876784920079\n",
       " 0.43346776208164906\n",
       " 0.04066231913210156\n",
       " 0.20172252531969603\n",
       " ⋮\n",
       " 0.2721766329604983\n",
       " 0.23038416572167852\n",
       " 0.07249935115851036\n",
       " 0.4361124709153253\n",
       " 0.3042988117335077\n",
       " 0.25986762346545483\n",
       " 0.4915412102995943\n",
       " 0.13849681395797198\n",
       " 0.5341600414243155\n",
       " 0.01751864615942\n",
       " 0.20607714536836616\n",
       " 0.1127900268828457"
      ]
     },
     "execution_count": 12,
     "metadata": {},
     "output_type": "execute_result"
    }
   ],
   "source": [
    "prediction=predict(logit,test)"
   ]
  },
  {
   "cell_type": "code",
   "execution_count": null,
   "id": "banner-glory",
   "metadata": {},
   "outputs": [],
   "source": []
  }
 ],
 "metadata": {
  "kernelspec": {
   "display_name": "Julia 1.6.0",
   "language": "julia",
   "name": "julia-1.6"
  },
  "language_info": {
   "file_extension": ".jl",
   "mimetype": "application/julia",
   "name": "julia",
   "version": "1.6.0"
  }
 },
 "nbformat": 4,
 "nbformat_minor": 5
}
