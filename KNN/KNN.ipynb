{
 "metadata": {
  "language_info": {
   "codemirror_mode": {
    "name": "ipython",
    "version": 3
   },
   "file_extension": ".py",
   "mimetype": "text/x-python",
   "name": "python",
   "nbconvert_exporter": "python",
   "pygments_lexer": "ipython3",
   "version": "3.8.0-final"
  },
  "orig_nbformat": 2,
  "kernelspec": {
   "name": "python_defaultSpec_1599020746553",
   "display_name": "Python 3.8.0 32-bit"
  }
 },
 "nbformat": 4,
 "nbformat_minor": 2,
 "cells": [
  {
   "cell_type": "markdown",
   "metadata": {},
   "source": [
    "## K-Nearest Neighbour (KNN)"
   ]
  },
  {
   "cell_type": "code",
   "execution_count": 1,
   "metadata": {},
   "outputs": [],
   "source": [
    "import pandas as pd\n",
    "import numpy as np\n",
    "from sklearn.model_selection import train_test_split\n",
    "from sklearn.neighbors import KNeighborsClassifier\n",
    "from sklearn.preprocessing import StandardScaler\n",
    "from sklearn.metrics import confusion_matrix,f1_score,accuracy_score"
   ]
  },
  {
   "cell_type": "code",
   "execution_count": 4,
   "metadata": {},
   "outputs": [
    {
     "output_type": "execute_result",
     "data": {
      "text/plain": "   Pregnancies  Glucose  BloodPressure  SkinThickness  Insulin   BMI  \\\n0            6      148             72             35        0  33.6   \n1            1       85             66             29        0  26.6   \n2            8      183             64              0        0  23.3   \n3            1       89             66             23       94  28.1   \n4            0      137             40             35      168  43.1   \n\n   DiabetesPedigreeFunction  Age  Outcome  \n0                     0.627   50        1  \n1                     0.351   31        0  \n2                     0.672   32        1  \n3                     0.167   21        0  \n4                     2.288   33        1  ",
      "text/html": "<div>\n<style scoped>\n    .dataframe tbody tr th:only-of-type {\n        vertical-align: middle;\n    }\n\n    .dataframe tbody tr th {\n        vertical-align: top;\n    }\n\n    .dataframe thead th {\n        text-align: right;\n    }\n</style>\n<table border=\"1\" class=\"dataframe\">\n  <thead>\n    <tr style=\"text-align: right;\">\n      <th></th>\n      <th>Pregnancies</th>\n      <th>Glucose</th>\n      <th>BloodPressure</th>\n      <th>SkinThickness</th>\n      <th>Insulin</th>\n      <th>BMI</th>\n      <th>DiabetesPedigreeFunction</th>\n      <th>Age</th>\n      <th>Outcome</th>\n    </tr>\n  </thead>\n  <tbody>\n    <tr>\n      <th>0</th>\n      <td>6</td>\n      <td>148</td>\n      <td>72</td>\n      <td>35</td>\n      <td>0</td>\n      <td>33.6</td>\n      <td>0.627</td>\n      <td>50</td>\n      <td>1</td>\n    </tr>\n    <tr>\n      <th>1</th>\n      <td>1</td>\n      <td>85</td>\n      <td>66</td>\n      <td>29</td>\n      <td>0</td>\n      <td>26.6</td>\n      <td>0.351</td>\n      <td>31</td>\n      <td>0</td>\n    </tr>\n    <tr>\n      <th>2</th>\n      <td>8</td>\n      <td>183</td>\n      <td>64</td>\n      <td>0</td>\n      <td>0</td>\n      <td>23.3</td>\n      <td>0.672</td>\n      <td>32</td>\n      <td>1</td>\n    </tr>\n    <tr>\n      <th>3</th>\n      <td>1</td>\n      <td>89</td>\n      <td>66</td>\n      <td>23</td>\n      <td>94</td>\n      <td>28.1</td>\n      <td>0.167</td>\n      <td>21</td>\n      <td>0</td>\n    </tr>\n    <tr>\n      <th>4</th>\n      <td>0</td>\n      <td>137</td>\n      <td>40</td>\n      <td>35</td>\n      <td>168</td>\n      <td>43.1</td>\n      <td>2.288</td>\n      <td>33</td>\n      <td>1</td>\n    </tr>\n  </tbody>\n</table>\n</div>"
     },
     "metadata": {},
     "execution_count": 4
    }
   ],
   "source": [
    "dataset = pd.read_csv('./diabetes.csv')\n",
    "dataset.head()"
   ]
  },
  {
   "cell_type": "code",
   "execution_count": 7,
   "metadata": {},
   "outputs": [],
   "source": [
    "non_zero = ['Glucose','BloodPressure','SkinThickness','Insulin','BMI']\n",
    "for col in non_zero:\n",
    "    dataset[col] = dataset[col].replace(0,np.NaN)\n",
    "    median = int(dataset[col].median(skipna = True))\n",
    "    dataset[col] = dataset[col].replace(np.NaN,median)"
   ]
  },
  {
   "cell_type": "code",
   "execution_count": 21,
   "metadata": {},
   "outputs": [],
   "source": [
    "X = dataset.iloc[:,0:-1]\n",
    "Y = dataset.iloc[:,-1]"
   ]
  },
  {
   "cell_type": "code",
   "execution_count": 24,
   "metadata": {
    "tags": []
   },
   "outputs": [
    {
     "output_type": "stream",
     "name": "stdout",
     "text": "Pregnancies  Glucose  BloodPressure  SkinThickness  Insulin   BMI  \\\n0              6    148.0           72.0           35.0    125.0  33.6   \n1              1     85.0           66.0           29.0    125.0  26.6   \n2              8    183.0           64.0           29.0    125.0  23.3   \n3              1     89.0           66.0           23.0     94.0  28.1   \n4              0    137.0           40.0           35.0    168.0  43.1   \n..           ...      ...            ...            ...      ...   ...   \n763           10    101.0           76.0           48.0    180.0  32.9   \n764            2    122.0           70.0           27.0    125.0  36.8   \n765            5    121.0           72.0           23.0    112.0  26.2   \n766            1    126.0           60.0           29.0    125.0  30.1   \n767            1     93.0           70.0           31.0    125.0  30.4   \n\n     DiabetesPedigreeFunction  Age  \n0                       0.627   50  \n1                       0.351   31  \n2                       0.672   32  \n3                       0.167   21  \n4                       2.288   33  \n..                        ...  ...  \n763                     0.171   63  \n764                     0.340   27  \n765                     0.245   30  \n766                     0.349   47  \n767                     0.315   23  \n\n[768 rows x 8 columns]\n0      1\n1      0\n2      1\n3      0\n4      1\n      ..\n763    0\n764    0\n765    0\n766    1\n767    0\nName: Outcome, Length: 768, dtype: int64\n"
    }
   ],
   "source": [
    "print(X)\n",
    "print(Y)"
   ]
  },
  {
   "cell_type": "code",
   "execution_count": 25,
   "metadata": {},
   "outputs": [],
   "source": [
    "x_train,x_test,y_train,y_test = train_test_split(X,Y,test_size = 0.3,random_state = 0)"
   ]
  },
  {
   "cell_type": "code",
   "execution_count": 26,
   "metadata": {
    "tags": []
   },
   "outputs": [
    {
     "output_type": "stream",
     "name": "stdout",
     "text": "768\n537\n231\n"
    }
   ],
   "source": [
    "print(len(X))\n",
    "print(len(x_train))\n",
    "print(len(x_test))"
   ]
  },
  {
   "cell_type": "code",
   "execution_count": 27,
   "metadata": {},
   "outputs": [],
   "source": [
    "x_train = StandardScaler().fit_transform(x_train)\n",
    "x_test = StandardScaler().fit_transform(x_test)"
   ]
  },
  {
   "cell_type": "code",
   "execution_count": 34,
   "metadata": {
    "tags": []
   },
   "outputs": [
    {
     "output_type": "stream",
     "name": "stdout",
     "text": "15\n"
    }
   ],
   "source": [
    "k = int(len(x_test)**.5)\n",
    "print(k)"
   ]
  },
  {
   "cell_type": "code",
   "execution_count": 35,
   "metadata": {},
   "outputs": [
    {
     "output_type": "execute_result",
     "data": {
      "text/plain": "KNeighborsClassifier(metric='euclidean', n_neighbors=15)"
     },
     "metadata": {},
     "execution_count": 35
    }
   ],
   "source": [
    "model = KNeighborsClassifier(n_neighbors = k,p=2,metric='euclidean')\n",
    "model.fit(x_train,y_train)"
   ]
  },
  {
   "cell_type": "code",
   "execution_count": 36,
   "metadata": {
    "tags": []
   },
   "outputs": [
    {
     "output_type": "stream",
     "name": "stdout",
     "text": "1 1\n0 0\n0 0\n1 1\n0 0\n0 0\n1 1\n1 1\n0 0\n0 0\n1 1\n1 1\n0 0\n0 0\n0 0\n0 0\n1 1\n0 0\n0 0\n0 0\n1 1\n0 1\n0 0\n0 0\n0 0\n0 0\n0 0\n1 0\n0 0\n0 0\n1 0\n0 0\n0 0\n1 0\n0 0\n1 1\n0 1\n0 0\n0 0\n1 0\n0 0\n0 0\n0 0\n1 1\n1 1\n0 0\n0 0\n0 1\n0 1\n0 1\n0 0\n0 0\n1 1\n1 0\n0 0\n0 0\n0 0\n1 1\n0 1\n1 1\n1 1\n0 0\n0 0\n1 1\n1 1\n1 1\n1 1\n0 0\n1 0\n0 0\n0 0\n0 0\n0 0\n1 0\n1 1\n0 0\n0 0\n1 0\n0 0\n0 0\n0 0\n0 0\n0 0\n0 0\n0 0\n0 0\n0 1\n0 0\n1 1\n0 0\n0 0\n0 0\n0 0\n0 0\n1 0\n0 0\n0 1\n1 0\n1 1\n1 1\n0 0\n0 0\n0 0\n0 0\n0 0\n0 1\n0 0\n0 0\n0 0\n1 1\n0 0\n0 1\n1 1\n1 1\n1 1\n1 1\n0 0\n1 0\n0 0\n1 1\n0 0\n0 0\n0 0\n0 0\n0 0\n0 0\n0 0\n0 1\n0 0\n0 0\n0 0\n0 0\n0 0\n1 1\n1 0\n1 1\n0 0\n0 1\n0 1\n0 0\n0 0\n1 0\n0 0\n0 0\n1 1\n0 0\n0 0\n0 0\n0 0\n0 1\n0 0\n0 1\n0 0\n0 0\n1 1\n0 0\n1 0\n0 0\n0 1\n1 1\n1 1\n0 1\n0 0\n0 0\n1 0\n0 1\n0 0\n0 0\n0 0\n0 0\n0 0\n0 0\n0 1\n1 1\n0 0\n0 0\n0 0\n0 0\n0 0\n0 0\n0 1\n1 1\n0 0\n1 1\n0 1\n0 0\n0 1\n0 1\n0 1\n0 0\n0 0\n0 0\n0 0\n0 0\n0 0\n1 1\n1 1\n1 0\n0 0\n0 0\n0 0\n0 0\n0 0\n1 0\n0 1\n0 0\n0 0\n0 0\n0 1\n0 0\n0 1\n0 0\n0 0\n0 0\n0 0\n0 0\n0 1\n0 1\n0 0\n0 0\n0 1\n0 0\n1 1\n1 1\n0 0\n1 0\n0 1\n0 1\n0 0\n0 0\n1 0\n"
    }
   ],
   "source": [
    "y_predict = model.predict(x_test)\n",
    "y_test = np.array(y_test)\n",
    "for i in range(len(y_predict)):\n",
    "    print(y_predict[i],y_test[i])"
   ]
  },
  {
   "cell_type": "code",
   "execution_count": 41,
   "metadata": {
    "tags": []
   },
   "outputs": [
    {
     "output_type": "stream",
     "name": "stdout",
     "text": "[[138  19]\n [ 32  42]]\n"
    }
   ],
   "source": [
    "cm = confusion_matrix(y_test,y_predict)\n",
    "print(cm)"
   ]
  },
  {
   "cell_type": "code",
   "execution_count": 39,
   "metadata": {
    "tags": []
   },
   "outputs": [
    {
     "output_type": "stream",
     "name": "stdout",
     "text": "0.7792207792207793\n"
    }
   ],
   "source": [
    "print(accuracy_score(y_test,y_predict))"
   ]
  },
  {
   "cell_type": "code",
   "execution_count": 42,
   "metadata": {
    "tags": []
   },
   "outputs": [
    {
     "output_type": "stream",
     "name": "stdout",
     "text": "0.6222222222222222\n"
    }
   ],
   "source": [
    "print(f1_score(y_test,y_predict))"
   ]
  },
  {
   "cell_type": "code",
   "execution_count": null,
   "metadata": {},
   "outputs": [],
   "source": []
  }
 ]
}